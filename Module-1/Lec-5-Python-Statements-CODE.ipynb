{
 "cells": [
  {
   "attachments": {},
   "cell_type": "markdown",
   "metadata": {},
   "source": [
    "# Python Statement\n",
    "\n",
    "In this lecture we will focus on dictionaries on Python statements, which include if, for, while statements\n",
    "\n",
    "## Checklist:\n",
    "\n",
    "    1) \"If...If Else...Else\" Statements\n",
    "    2) \"For\" Statements\n",
    "    3) \"While\" Statements\n",
    "\n",
    "___"
   ]
  },
  {
   "attachments": {},
   "cell_type": "markdown",
   "metadata": {},
   "source": [
    "# 1) If Statements\n",
    "\n",
    "If statements are like railroad tracks that will either move the train in a certain direction based on the conditions.\n",
    "\n",
    "The basic idea/structure is like\n",
    "\n",
    "    a) If this condition is true          --> do this\n",
    "    b) If the first condition isn't true  --> do this\n",
    "    c) If none of the conditions are true --> do this\n",
    "\n",
    "The syntax is as follows\n",
    "\n",
    "    if condition 1:\n",
    "        action 1\n",
    "    elif condition 2:\n",
    "        action 2\n",
    "    else:\n",
    "        action 3\n",
    "    "
   ]
  },
  {
   "attachments": {},
   "cell_type": "markdown",
   "metadata": {},
   "source": [
    "Starting syntax for an if statement in action"
   ]
  },
  {
   "cell_type": "code",
   "execution_count": 2,
   "metadata": {},
   "outputs": [
    {
     "name": "stdout",
     "output_type": "stream",
     "text": [
      "grade is greater than 90%\n"
     ]
    }
   ],
   "source": [
    "grade = 100\n",
    "\n",
    "if grade > 90:\n",
    "    print(\"grade is A\")"
   ]
  },
  {
   "attachments": {},
   "cell_type": "markdown",
   "metadata": {},
   "source": [
    "Now we can add an additional statement for the case that we don't meet the first criteria"
   ]
  },
  {
   "cell_type": "code",
   "execution_count": 12,
   "metadata": {},
   "outputs": [
    {
     "name": "stdout",
     "output_type": "stream",
     "text": [
      "grade is NOT A\n"
     ]
    }
   ],
   "source": [
    "grade = 80\n",
    "\n",
    "if grade > 90:\n",
    "    print(\"grade is A\")\n",
    "else:\n",
    "    print(\"grade is NOT A\")"
   ]
  },
  {
   "attachments": {},
   "cell_type": "markdown",
   "metadata": {},
   "source": [
    "We can also have multiple conditions we check and leave the \"else\" case as a last resort"
   ]
  },
  {
   "cell_type": "code",
   "execution_count": 13,
   "metadata": {},
   "outputs": [
    {
     "name": "stdout",
     "output_type": "stream",
     "text": [
      "grade is B\n"
     ]
    }
   ],
   "source": [
    "grade = 85\n",
    "\n",
    "if grade > 90:\n",
    "    print(\"grade is A\")\n",
    "elif grade > 80:\n",
    "    print(\"grade is B\")\n",
    "else:\n",
    "    print(\"not set yet\")"
   ]
  },
  {
   "attachments": {},
   "cell_type": "markdown",
   "metadata": {},
   "source": [
    "We can put as many elif statements as needed\n",
    "* try different values and see what the result is"
   ]
  },
  {
   "cell_type": "code",
   "execution_count": 16,
   "metadata": {},
   "outputs": [
    {
     "name": "stdout",
     "output_type": "stream",
     "text": [
      "grade is C\n"
     ]
    }
   ],
   "source": [
    "grade = 72\n",
    "if grade > 90:\n",
    "    print(\"grade is A\")\n",
    "elif grade > 80:\n",
    "    print(\"grade is B\")\n",
    "elif grade > 70:\n",
    "    print(\"grade is C\")\n",
    "elif grade > 60:\n",
    "    print(\"grade is D\")\n",
    "else:\n",
    "    print(\"not set yet\")"
   ]
  },
  {
   "attachments": {},
   "cell_type": "markdown",
   "metadata": {},
   "source": [
    "The important part to understand is that the code will check each conditions in order\n",
    "* Since we checked grade > 60 first, any of the grades below it will never be reached"
   ]
  },
  {
   "cell_type": "code",
   "execution_count": 19,
   "metadata": {},
   "outputs": [
    {
     "name": "stdout",
     "output_type": "stream",
     "text": [
      "grade is D\n"
     ]
    }
   ],
   "source": [
    "grade = 72\n",
    "\n",
    "if grade > 60:\n",
    "    print(\"grade is D\")\n",
    "elif grade > 70:\n",
    "    print(\"grade is C\")\n",
    "elif grade > 80:\n",
    "    print(\"grade is B\")\n",
    "elif grade > 90:\n",
    "    print(\"grade is A\")\n",
    "else:\n",
    "    print(\"not set yet\")"
   ]
  },
  {
   "attachments": {},
   "cell_type": "markdown",
   "metadata": {},
   "source": [
    "## And and Or Conditions\n",
    "Often times there is more than one criteria we want to evaluate. Two common ways to combine conditions:\n",
    "* AND\n",
    "    * Statement is true only if all criteria is met\n",
    "* OR\n",
    "    * Statement is true if any of the criteria is met"
   ]
  },
  {
   "cell_type": "code",
   "execution_count": 11,
   "metadata": {},
   "outputs": [],
   "source": [
    "a = 10\n",
    "b = 20\n",
    "c = 30"
   ]
  },
  {
   "attachments": {},
   "cell_type": "markdown",
   "metadata": {},
   "source": [
    "Checking one criteria"
   ]
  },
  {
   "cell_type": "code",
   "execution_count": 9,
   "metadata": {},
   "outputs": [
    {
     "data": {
      "text/plain": [
       "True"
      ]
     },
     "execution_count": 9,
     "metadata": {},
     "output_type": "execute_result"
    }
   ],
   "source": [
    "a < b"
   ]
  },
  {
   "attachments": {},
   "cell_type": "markdown",
   "metadata": {},
   "source": [
    "Checking two criteria must be true"
   ]
  },
  {
   "cell_type": "code",
   "execution_count": 21,
   "metadata": {},
   "outputs": [
    {
     "name": "stdout",
     "output_type": "stream",
     "text": [
      "condition 1: True\n",
      "condition 2: True\n",
      "final outcome: True\n"
     ]
    }
   ],
   "source": [
    "print(\"condition 1:\", a < b)\n",
    "print(\"condition 2:\", b < c)\n",
    "print(\"final outcome:\", a < b and b < c)"
   ]
  },
  {
   "cell_type": "code",
   "execution_count": 22,
   "metadata": {},
   "outputs": [
    {
     "name": "stdout",
     "output_type": "stream",
     "text": [
      "condition 1: False\n",
      "condition 2: True\n",
      "final outcome: True\n"
     ]
    }
   ],
   "source": [
    "print(\"condition 1:\", a > b)\n",
    "print(\"condition 2:\", b < c)\n",
    "print(\"final outcome:\", a < b and b < c)"
   ]
  },
  {
   "attachments": {},
   "cell_type": "markdown",
   "metadata": {},
   "source": [
    "Checking that either criteria could be true"
   ]
  },
  {
   "cell_type": "code",
   "execution_count": 23,
   "metadata": {},
   "outputs": [
    {
     "name": "stdout",
     "output_type": "stream",
     "text": [
      "condition 1: False\n",
      "condition 2: True\n",
      "final outcome: True\n"
     ]
    }
   ],
   "source": [
    "print(\"condition 1:\", a > c)\n",
    "print(\"condition 2:\", b < c)\n",
    "print(\"final outcome:\", a > c or b < c)"
   ]
  },
  {
   "attachments": {},
   "cell_type": "markdown",
   "metadata": {},
   "source": [
    "Combining AND and OR"
   ]
  },
  {
   "cell_type": "code",
   "execution_count": 25,
   "metadata": {},
   "outputs": [
    {
     "data": {
      "text/plain": [
       "True"
      ]
     },
     "execution_count": 25,
     "metadata": {},
     "output_type": "execute_result"
    }
   ],
   "source": [
    "(a < b and b < c ) or c > b"
   ]
  },
  {
   "attachments": {},
   "cell_type": "markdown",
   "metadata": {},
   "source": [
    "We can do the sample thing with symbols & (and) | (or)"
   ]
  },
  {
   "cell_type": "code",
   "execution_count": 26,
   "metadata": {},
   "outputs": [
    {
     "data": {
      "text/plain": [
       "True"
      ]
     },
     "execution_count": 26,
     "metadata": {},
     "output_type": "execute_result"
    }
   ],
   "source": [
    "a < b & b < c"
   ]
  },
  {
   "cell_type": "code",
   "execution_count": 27,
   "metadata": {},
   "outputs": [
    {
     "data": {
      "text/plain": [
       "False"
      ]
     },
     "execution_count": 27,
     "metadata": {},
     "output_type": "execute_result"
    }
   ],
   "source": [
    "a > c | b < c"
   ]
  },
  {
   "attachments": {},
   "cell_type": "markdown",
   "metadata": {},
   "source": [
    "# For Loops\n",
    "For loops are a way to do things over and over in a concise way\n",
    "\n",
    "Let's start with a basic for loop and printing each value in the list"
   ]
  },
  {
   "cell_type": "code",
   "execution_count": 27,
   "metadata": {},
   "outputs": [
    {
     "name": "stdout",
     "output_type": "stream",
     "text": [
      "1\n",
      "2\n",
      "3\n",
      "4\n",
      "5\n",
      "6\n"
     ]
    }
   ],
   "source": [
    "list1 = [1,2,3,4,5,6]\n",
    "\n",
    "for i in range(0,len(list1)):\n",
    "    print(list1[i])"
   ]
  },
  {
   "attachments": {},
   "cell_type": "markdown",
   "metadata": {},
   "source": [
    "However, Python allows you to loop through the items itself so you know need to use an index"
   ]
  },
  {
   "cell_type": "code",
   "execution_count": 29,
   "metadata": {},
   "outputs": [
    {
     "name": "stdout",
     "output_type": "stream",
     "text": [
      "1\n",
      "2\n",
      "3\n",
      "4\n",
      "5\n",
      "6\n"
     ]
    }
   ],
   "source": [
    "list1 = [1,2,3,4,5,6]\n",
    "\n",
    "for item in list1: # item can be any variable name you want\n",
    "    print(item)"
   ]
  },
  {
   "attachments": {},
   "cell_type": "markdown",
   "metadata": {},
   "source": [
    "We can also for loop through strings and it will print out every letter"
   ]
  },
  {
   "cell_type": "code",
   "execution_count": 32,
   "metadata": {},
   "outputs": [
    {
     "name": "stdout",
     "output_type": "stream",
     "text": [
      "H\n",
      "e\n",
      "l\n",
      "l\n",
      "o\n",
      " \n",
      "T\n",
      "h\n",
      "e\n",
      "r\n",
      "e\n"
     ]
    }
   ],
   "source": [
    "for letter in \"Hello There\":\n",
    "    print(letter)"
   ]
  },
  {
   "attachments": {},
   "cell_type": "markdown",
   "metadata": {},
   "source": [
    "In case we want also want the index and value we can use enumerate"
   ]
  },
  {
   "cell_type": "code",
   "execution_count": 34,
   "metadata": {},
   "outputs": [
    {
     "name": "stdout",
     "output_type": "stream",
     "text": [
      "index 0: H\n",
      "index 1: e\n",
      "index 2: l\n",
      "index 3: l\n",
      "index 4: o\n",
      "index 5:  \n",
      "index 6: T\n",
      "index 7: h\n",
      "index 8: e\n",
      "index 9: r\n",
      "index 10: e\n"
     ]
    }
   ],
   "source": [
    "for i, letter in enumerate(\"Hello There\"):\n",
    "    print(f\"index {i}: {letter}\")"
   ]
  },
  {
   "attachments": {},
   "cell_type": "markdown",
   "metadata": {},
   "source": [
    "We are also also able to loop through dictionaries as well\n",
    "\n",
    "If you just loop through the dictionary, it will return the keys"
   ]
  },
  {
   "cell_type": "code",
   "execution_count": 46,
   "metadata": {},
   "outputs": [
    {
     "name": "stdout",
     "output_type": "stream",
     "text": [
      "key1\n",
      "key2\n",
      "key3\n",
      "key4\n"
     ]
    }
   ],
   "source": [
    "my_dict = {\"key1\":1, \"key2\":2, \"key3\":3, \"key4\":4}\n",
    "\n",
    "for key in my_dict:\n",
    "    print(key)"
   ]
  },
  {
   "attachments": {},
   "cell_type": "markdown",
   "metadata": {},
   "source": [
    "We have to specify the values if we want to loop through the values"
   ]
  },
  {
   "cell_type": "code",
   "execution_count": 47,
   "metadata": {},
   "outputs": [
    {
     "name": "stdout",
     "output_type": "stream",
     "text": [
      "1\n",
      "2\n",
      "3\n",
      "4\n"
     ]
    }
   ],
   "source": [
    "for values in my_dict.values():\n",
    "    print(key)"
   ]
  },
  {
   "attachments": {},
   "cell_type": "markdown",
   "metadata": {},
   "source": [
    "If we want both keys and values then we need to loop through my_dict.items()"
   ]
  },
  {
   "cell_type": "code",
   "execution_count": 50,
   "metadata": {},
   "outputs": [
    {
     "name": "stdout",
     "output_type": "stream",
     "text": [
      "key: key1, value: 1\n",
      "key: key2, value: 2\n",
      "key: key3, value: 3\n",
      "key: key4, value: 4\n"
     ]
    }
   ],
   "source": [
    "for key, value in my_dict.items():\n",
    "    print(f\"key: {key}, value: {value}\")"
   ]
  },
  {
   "cell_type": "code",
   "execution_count": 51,
   "metadata": {},
   "outputs": [
    {
     "data": {
      "text/plain": [
       "[2, 2, 2, 3, 5, 5, 6, 8, 8, 8, 9]"
      ]
     },
     "execution_count": 51,
     "metadata": {},
     "output_type": "execute_result"
    }
   ],
   "source": [
    "test = [3,6,8,2,5,8,2,8,9,2,5]\n",
    "\n"
   ]
  },
  {
   "attachments": {},
   "cell_type": "markdown",
   "metadata": {},
   "source": [
    "# Combining For and If Statements"
   ]
  },
  {
   "attachments": {},
   "cell_type": "markdown",
   "metadata": {},
   "source": [
    "## Example 1: Printing only the even numbers in a list"
   ]
  },
  {
   "cell_type": "code",
   "execution_count": 44,
   "metadata": {},
   "outputs": [
    {
     "name": "stdout",
     "output_type": "stream",
     "text": [
      "Odd:  1\n",
      "Even: 2\n",
      "Odd:  3\n",
      "Even: 4\n",
      "Odd:  5\n",
      "Even: 6\n",
      "Odd:  7\n",
      "Even: 8\n",
      "Odd:  9\n",
      "Even: 10\n"
     ]
    }
   ],
   "source": [
    "list1 = [1,2,3,4,5,6,7,8,9,10]\n",
    "\n",
    "for item in list1: # item can be any variable name you want\n",
    "    if item % 2 == 0:\n",
    "        print(f\"Even: {item}\")\n",
    "    else:\n",
    "        print(f\"Odd:  {item}\")"
   ]
  },
  {
   "attachments": {},
   "cell_type": "markdown",
   "metadata": {},
   "source": [
    "## Example 2: Find the mean of a list"
   ]
  },
  {
   "cell_type": "code",
   "execution_count": 39,
   "metadata": {},
   "outputs": [
    {
     "data": {
      "text/plain": [
       "5.0"
      ]
     },
     "execution_count": 39,
     "metadata": {},
     "output_type": "execute_result"
    }
   ],
   "source": [
    "list1 = [0,1,2,3,4,5,6,7,8,9,10]\n",
    "sum = 0\n",
    "\n",
    "for item in list1:\n",
    "    sum += item\n",
    "\n",
    "avg = sum / len(list1)\n",
    "avg"
   ]
  },
  {
   "attachments": {},
   "cell_type": "markdown",
   "metadata": {},
   "source": [
    "# 3) While Statements\n",
    "\n",
    "While statements are like for loop but they go on FOREVER until a condition becomes false"
   ]
  },
  {
   "cell_type": "code",
   "execution_count": 41,
   "metadata": {},
   "outputs": [
    {
     "name": "stdout",
     "output_type": "stream",
     "text": [
      "0\n",
      "1\n",
      "2\n",
      "3\n",
      "4\n",
      "5\n",
      "6\n",
      "7\n",
      "8\n",
      "9\n"
     ]
    }
   ],
   "source": [
    "x = 0\n",
    "\n",
    "while  x < 10:\n",
    "    print(x)\n",
    "    x += 1 # every time we loop through, x will increase by 1"
   ]
  }
 ],
 "metadata": {
  "kernelspec": {
   "display_name": "Python 3",
   "language": "python",
   "name": "python3"
  },
  "language_info": {
   "codemirror_mode": {
    "name": "ipython",
    "version": 3
   },
   "file_extension": ".py",
   "mimetype": "text/x-python",
   "name": "python",
   "nbconvert_exporter": "python",
   "pygments_lexer": "ipython3",
   "version": "3.9.13"
  },
  "orig_nbformat": 4
 },
 "nbformat": 4,
 "nbformat_minor": 2
}
