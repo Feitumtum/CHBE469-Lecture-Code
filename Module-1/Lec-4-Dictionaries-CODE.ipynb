{
 "cells": [
  {
   "attachments": {},
   "cell_type": "markdown",
   "metadata": {},
   "source": [
    "# Dictionaries\n",
    "\n",
    "In this lecture we will focus on dictionaries in Python. Dictionaries are a good way to store relationships between a label and values that might be hard to remember\n",
    "\n",
    "## Checklist:\n",
    "\n",
    "    1) Making and Working with Dictionaries\n",
    "    2) Editing Dictionaries\n",
    "    3) Dictionary Methods\n",
    "\n",
    "___"
   ]
  },
  {
   "attachments": {},
   "cell_type": "markdown",
   "metadata": {},
   "source": [
    "# 1) Intro to Dictionaries\n",
    "Similar to how to we use a real-life dictionary, every word comes with a definition. Therefore, dictionaries are great when we have a common term we use, but it unrealistic to memorize the individual values, but we know the term we would use to reference it.\n",
    "\n",
    "Examples of how we could use a dictionary\n",
    "* Molecular Weights\n",
    "* CAS Numbers\n",
    "\n",
    "We as chemical engineers might know the shorthand or name of the molecule but would be redundant to memorize or know on the top of our heads the Molecular Weights and CAS numbers. However, making individual variables for every MW or every CAS number is also inefficient.\n"
   ]
  },
  {
   "attachments": {},
   "cell_type": "markdown",
   "metadata": {},
   "source": [
    "# Definition\n",
    "Dictionaries are constructed of keys and values\n",
    "\n",
    "A dictionary is made with {} and holds a set of key:value pairs separated by commas\n",
    "* key:value         --> key and values are separated by :\n",
    "* {pair1, pair2}    --> each pair is separated by ,"
   ]
  },
  {
   "attachments": {},
   "cell_type": "markdown",
   "metadata": {},
   "source": [
    "Make a dictionary with {} and : to signify a key and a value"
   ]
  },
  {
   "cell_type": "code",
   "execution_count": 15,
   "metadata": {},
   "outputs": [],
   "source": [
    "my_dict = {'key1':'value1','key2':'value2'}"
   ]
  },
  {
   "attachments": {},
   "cell_type": "markdown",
   "metadata": {},
   "source": [
    "Call values by their key"
   ]
  },
  {
   "cell_type": "code",
   "execution_count": 16,
   "metadata": {},
   "outputs": [
    {
     "data": {
      "text/plain": [
       "'value2'"
      ]
     },
     "execution_count": 16,
     "metadata": {},
     "output_type": "execute_result"
    }
   ],
   "source": [
    "my_dict['key2']"
   ]
  },
  {
   "attachments": {},
   "cell_type": "markdown",
   "metadata": {},
   "source": [
    "Dictionaries are flexible and can hold anything as the value\n",
    "* Strings\n",
    "* Lists\n",
    "* Other Dictionaries"
   ]
  },
  {
   "cell_type": "code",
   "execution_count": 17,
   "metadata": {},
   "outputs": [],
   "source": [
    "my_dict = {'key1':123,'key2':[12,23,33], 'key3': {\"dict2_key1\": \"dict2_val2\"}}"
   ]
  },
  {
   "attachments": {},
   "cell_type": "markdown",
   "metadata": {},
   "source": [
    "Now lets know how we can access these each of the values for each key"
   ]
  },
  {
   "cell_type": "code",
   "execution_count": 19,
   "metadata": {},
   "outputs": [
    {
     "name": "stdout",
     "output_type": "stream",
     "text": [
      "123\n",
      "[12, 23, 33]\n",
      "{'dict2_key1': 'dict2_val2'}\n",
      "dict2_val2\n"
     ]
    }
   ],
   "source": [
    "print(my_dict['key1'])\n",
    "print(my_dict['key2'])\n",
    "print(my_dict['key3'])\n",
    "print(my_dict['key3'][\"dict2_key1\"])"
   ]
  },
  {
   "attachments": {},
   "cell_type": "markdown",
   "metadata": {},
   "source": [
    "We can also use the values as if they were just that value and call methods on them"
   ]
  },
  {
   "cell_type": "code",
   "execution_count": 50,
   "metadata": {},
   "outputs": [
    {
     "data": {
      "text/plain": [
       "'DICT2_VAL2'"
      ]
     },
     "execution_count": 50,
     "metadata": {},
     "output_type": "execute_result"
    }
   ],
   "source": [
    "my_dict['key3'][\"dict2_key1\"].upper()"
   ]
  },
  {
   "attachments": {},
   "cell_type": "markdown",
   "metadata": {},
   "source": [
    "# Real Life Example\n",
    "Now that we know the basic structure, lets see an example of a real use case\n",
    "\n",
    "Lets take an example where we have dictionaries for molecular weights and CAS numbers the corresponding chemical compound "
   ]
  },
  {
   "cell_type": "code",
   "execution_count": 32,
   "metadata": {},
   "outputs": [],
   "source": [
    "name = {\"CH4\":\"Methane\", \"CO2\":\"Carbon Dioxide\", \"H2O\":\"Water\"}\n",
    "molecular_weight = {\"CH4\":16.5, \"CO2\":44.0, \"H2O\":18.0}\n",
    "CAS_num = {\"CH4\":\"74-82-8\", \"CO2\":\"124-38-9\", \"H2O\":\"7732-18-5\"}"
   ]
  },
  {
   "attachments": {},
   "cell_type": "markdown",
   "metadata": {},
   "source": [
    "We can access the values associated with a chemical name and use the value"
   ]
  },
  {
   "cell_type": "code",
   "execution_count": 33,
   "metadata": {},
   "outputs": [
    {
     "name": "stdout",
     "output_type": "stream",
     "text": [
      "4 moles of Methane (CAS:74-82-8) weighs 66.0 grams\n"
     ]
    }
   ],
   "source": [
    "compound = name[\"CH4\"]\n",
    "mass = molecular_weight[\"CH4\"]*4\n",
    "CAS = CAS_num[\"CH4\"]\n",
    "\n",
    "print(f\"4 moles of {compound} (CAS:{CAS}) weighs {mass} grams\")"
   ]
  },
  {
   "attachments": {},
   "cell_type": "markdown",
   "metadata": {},
   "source": [
    "Alternatively, we could store all the information for one compound in one value as a list and have only one dictionary\n",
    "* This requires you to remember the index which you put each value\n",
    "* Or you create another dictionary for the indexing\n",
    "\n",
    "This useful to understand when we want to loop through multiple rows and not meant to use if you only want to print a string"
   ]
  },
  {
   "cell_type": "code",
   "execution_count": 44,
   "metadata": {},
   "outputs": [
    {
     "name": "stdout",
     "output_type": "stream",
     "text": [
      "4 moles of Methane (CAS:74-82-8) weighs 66.0 grams\n"
     ]
    }
   ],
   "source": [
    "chemical_dict = {\n",
    "    \"CH4\":[\"Methane\",\"74-82-8\",16.5],\n",
    "    \"CO2\":[\"Carbon Dioxide\",\"124-38-9\",44.0],\n",
    "    \"H2O\":[\"Water\",\"7732-18-5\",18.00]\n",
    "    }\n",
    "\n",
    "value_dict = {\n",
    "    \"name\":0,\n",
    "    \"CAS\":1,\n",
    "    \"MW\":2\n",
    "    }\n"
   ]
  },
  {
   "attachments": {},
   "cell_type": "markdown",
   "metadata": {},
   "source": [
    "We can see what one key values returns"
   ]
  },
  {
   "cell_type": "code",
   "execution_count": 42,
   "metadata": {},
   "outputs": [
    {
     "data": {
      "text/plain": [
       "['Methane', '74-82-8', 16.5]"
      ]
     },
     "execution_count": 42,
     "metadata": {},
     "output_type": "execute_result"
    }
   ],
   "source": [
    "chemical_dict[\"CH4\"]"
   ]
  },
  {
   "attachments": {},
   "cell_type": "markdown",
   "metadata": {},
   "source": [
    "We can still get the same results as the previous example"
   ]
  },
  {
   "cell_type": "code",
   "execution_count": 45,
   "metadata": {},
   "outputs": [
    {
     "name": "stdout",
     "output_type": "stream",
     "text": [
      "4 moles of Methane (CAS:74-82-8) weighs 66.0 grams\n"
     ]
    }
   ],
   "source": [
    "compound = chemical_dict[\"CH4\"]\n",
    "print(f\"4 moles of {(compound[value_dict['name']])} (CAS:{compound[value_dict['CAS']]}) weighs {compound[value_dict['MW']]*4} grams\") # you have to use ' for the dictionary"
   ]
  },
  {
   "attachments": {},
   "cell_type": "markdown",
   "metadata": {},
   "source": [
    "# 2) Editing Dictionaries"
   ]
  },
  {
   "attachments": {},
   "cell_type": "markdown",
   "metadata": {},
   "source": [
    "You can initialize a variable as a dictionary, you make it equal to {}"
   ]
  },
  {
   "cell_type": "code",
   "execution_count": 21,
   "metadata": {},
   "outputs": [],
   "source": [
    "my_dict_2 = {}"
   ]
  },
  {
   "attachments": {},
   "cell_type": "markdown",
   "metadata": {},
   "source": [
    "You can add a key value pair by specifying the key, then assigning it a value"
   ]
  },
  {
   "cell_type": "code",
   "execution_count": 22,
   "metadata": {},
   "outputs": [
    {
     "data": {
      "text/plain": [
       "{'key1': 'value1'}"
      ]
     },
     "execution_count": 22,
     "metadata": {},
     "output_type": "execute_result"
    }
   ],
   "source": [
    "my_dict_2[\"key1\"] = \"value1\"\n",
    "\n",
    "my_dict_2"
   ]
  },
  {
   "attachments": {},
   "cell_type": "markdown",
   "metadata": {},
   "source": [
    "Lets add a few more key value pairs"
   ]
  },
  {
   "cell_type": "code",
   "execution_count": 24,
   "metadata": {},
   "outputs": [
    {
     "data": {
      "text/plain": [
       "{'key1': 'value1', 'key2': 'value2', 'key3': 'value3'}"
      ]
     },
     "execution_count": 24,
     "metadata": {},
     "output_type": "execute_result"
    }
   ],
   "source": [
    "my_dict_2[\"key2\"] = \"value2\"\n",
    "my_dict_2[\"key3\"] = \"value3\"\n",
    "\n",
    "my_dict_2"
   ]
  },
  {
   "attachments": {},
   "cell_type": "markdown",
   "metadata": {},
   "source": [
    "We can also reassign a value the same way we assign a value"
   ]
  },
  {
   "cell_type": "code",
   "execution_count": 26,
   "metadata": {},
   "outputs": [
    {
     "data": {
      "text/plain": [
       "{'key1': 'replacement_value1', 'key2': 'value2', 'key3': 'value3'}"
      ]
     },
     "execution_count": 26,
     "metadata": {},
     "output_type": "execute_result"
    }
   ],
   "source": [
    "my_dict_2[\"key1\"] = \"replacement_value1\"\n",
    "\n",
    "my_dict_2"
   ]
  },
  {
   "attachments": {},
   "cell_type": "markdown",
   "metadata": {},
   "source": [
    "# 3) Dictionary Methods\n",
    "Similar to strings and lists, there are built in methods for the dictionary data types"
   ]
  },
  {
   "attachments": {},
   "cell_type": "markdown",
   "metadata": {},
   "source": [
    "Getting all the keys in a dictionary"
   ]
  },
  {
   "cell_type": "code",
   "execution_count": 46,
   "metadata": {},
   "outputs": [
    {
     "data": {
      "text/plain": [
       "dict_keys(['key1', 'key2', 'key3'])"
      ]
     },
     "execution_count": 46,
     "metadata": {},
     "output_type": "execute_result"
    }
   ],
   "source": [
    "my_dict_2.keys()"
   ]
  },
  {
   "attachments": {},
   "cell_type": "markdown",
   "metadata": {},
   "source": [
    "Get all values in a dictionary"
   ]
  },
  {
   "cell_type": "code",
   "execution_count": 47,
   "metadata": {},
   "outputs": [
    {
     "data": {
      "text/plain": [
       "dict_values(['replacement_value1', 'value2', 'value3'])"
      ]
     },
     "execution_count": 47,
     "metadata": {},
     "output_type": "execute_result"
    }
   ],
   "source": [
    "my_dict_2.values()"
   ]
  },
  {
   "attachments": {},
   "cell_type": "markdown",
   "metadata": {},
   "source": [
    "Get all the key and value pairs in the dictionary\n",
    "* the output is a list of tuples\n",
    "* tuples are like lists but are ORDERED and UNCHANGEABLE\n",
    "    * ORDERED means you can't change the order (you access them using an index)\n",
    "    * UNCHANGEABLE means immutable and you can't add, change, or remove items once its defined\n",
    "\n",
    "Don't worry too much about tuples as we won't go too in depth into them"
   ]
  },
  {
   "cell_type": "code",
   "execution_count": 51,
   "metadata": {},
   "outputs": [
    {
     "data": {
      "text/plain": [
       "dict_items([('key1', 'replacement_value1'), ('key2', 'value2'), ('key3', 'value3')])"
      ]
     },
     "execution_count": 51,
     "metadata": {},
     "output_type": "execute_result"
    }
   ],
   "source": [
    "my_dict_2.items()"
   ]
  },
  {
   "attachments": {},
   "cell_type": "markdown",
   "metadata": {},
   "source": [
    "BONUS: We can use list comphrehension on dictionaries too!\n",
    "\n",
    "For example, if we have a dictionary with corresponding interger values, we can multiple them by a factor"
   ]
  },
  {
   "cell_type": "code",
   "execution_count": 52,
   "metadata": {},
   "outputs": [],
   "source": [
    "dict1 = {'a': 1, 'b': 2, 'c': 3, 'd': 4, 'e': 5}"
   ]
  },
  {
   "attachments": {},
   "cell_type": "markdown",
   "metadata": {},
   "source": [
    "Double each value in the dictionary"
   ]
  },
  {
   "cell_type": "code",
   "execution_count": 54,
   "metadata": {},
   "outputs": [
    {
     "data": {
      "text/plain": [
       "{'a': 2, 'b': 4, 'c': 6, 'd': 8, 'e': 10}"
      ]
     },
     "execution_count": 54,
     "metadata": {},
     "output_type": "execute_result"
    }
   ],
   "source": [
    "double_dict1 = {k:v*2 for (k,v) in dict1.items()}\n",
    "double_dict1"
   ]
  }
 ],
 "metadata": {
  "kernelspec": {
   "display_name": "Python 3",
   "language": "python",
   "name": "python3"
  },
  "language_info": {
   "codemirror_mode": {
    "name": "ipython",
    "version": 3
   },
   "file_extension": ".py",
   "mimetype": "text/x-python",
   "name": "python",
   "nbconvert_exporter": "python",
   "pygments_lexer": "ipython3",
   "version": "3.9.13"
  },
  "orig_nbformat": 4
 },
 "nbformat": 4,
 "nbformat_minor": 2
}
