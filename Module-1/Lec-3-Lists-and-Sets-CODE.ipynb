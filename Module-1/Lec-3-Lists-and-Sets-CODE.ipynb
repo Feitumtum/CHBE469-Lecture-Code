{
 "cells": [
  {
   "attachments": {},
   "cell_type": "markdown",
   "metadata": {},
   "source": [
    "# Lists and Sets\n",
    "\n",
    "Lists are another data structure that is important to understand when working in Python. The basic idea is a list is a collection of items organized in a list.\n",
    "\n",
    "## Checklist:\n",
    "    \n",
    "    1) What are lists and how to create lists\n",
    "    2) Indexing and Slicing Lists (similar to Strings)\n",
    "    3) List Methods\n",
    "    4) Nested Lists (like arrays)\n",
    "    5) List Comprehension\n",
    "    6) What are sets\n",
    "___"
   ]
  },
  {
   "attachments": {},
   "cell_type": "markdown",
   "metadata": {},
   "source": [
    "# 1) Intro to Lists\n",
    "\n",
    "Lists are constructed with brackets [] and commas separating every element in the list."
   ]
  },
  {
   "cell_type": "code",
   "execution_count": 1,
   "metadata": {},
   "outputs": [
    {
     "data": {
      "text/plain": [
       "['example', 'list', 'of', 'strings']"
      ]
     },
     "execution_count": 1,
     "metadata": {},
     "output_type": "execute_result"
    }
   ],
   "source": [
    "list1 = [\"example\", \"list\", \"of\", \"strings\"] # list could be only one data type\n",
    "list1"
   ]
  },
  {
   "attachments": {},
   "cell_type": "markdown",
   "metadata": {},
   "source": [
    "Lists can also have various data types (it can also include other lists as well)\n",
    "* a list hold lists are called nested arrays (will get to later)"
   ]
  },
  {
   "cell_type": "code",
   "execution_count": 2,
   "metadata": {},
   "outputs": [
    {
     "data": {
      "text/plain": [
       "['apple', 'orange', 5, True]"
      ]
     },
     "execution_count": 2,
     "metadata": {},
     "output_type": "execute_result"
    }
   ],
   "source": [
    "list2 = [\"apple\", \"orange\", 5, True, [\"list2\",\"is\",\"here\"]]\n",
    "list2"
   ]
  },
  {
   "attachments": {},
   "cell_type": "markdown",
   "metadata": {},
   "source": [
    "We can find the length of a list by using the len() method"
   ]
  },
  {
   "cell_type": "code",
   "execution_count": 3,
   "metadata": {},
   "outputs": [
    {
     "name": "stdout",
     "output_type": "stream",
     "text": [
      "Length of list 1: 4\n",
      "Length of list 2: 4\n"
     ]
    }
   ],
   "source": [
    "print(\"Length of list 1:\", len(list1))\n",
    "print(\"Length of list 2:\", len(list2))"
   ]
  },
  {
   "attachments": {},
   "cell_type": "markdown",
   "metadata": {},
   "source": [
    "# 2) Indexing and Slicing Lists (similar to Strings)\n",
    "Getting sublists is very similar to Strings and also use the [ ]'s"
   ]
  },
  {
   "attachments": {},
   "cell_type": "markdown",
   "metadata": {},
   "source": [
    "Grabbing nth item"
   ]
  },
  {
   "cell_type": "code",
   "execution_count": 4,
   "metadata": {},
   "outputs": [
    {
     "name": "stdout",
     "output_type": "stream",
     "text": [
      "list\n",
      "apple\n"
     ]
    }
   ],
   "source": [
    "print(list1[1])\n",
    "print(list2[0])"
   ]
  },
  {
   "attachments": {},
   "cell_type": "markdown",
   "metadata": {},
   "source": [
    "Grabbing between nth to nth item"
   ]
  },
  {
   "cell_type": "code",
   "execution_count": 5,
   "metadata": {},
   "outputs": [
    {
     "name": "stdout",
     "output_type": "stream",
     "text": [
      "['of', 'strings']\n",
      "[5, True]\n"
     ]
    }
   ],
   "source": [
    "print(list1[2:4])\n",
    "print(list2[2:4])"
   ]
  },
  {
   "attachments": {},
   "cell_type": "markdown",
   "metadata": {},
   "source": [
    "Grabbing from 0 to nth item"
   ]
  },
  {
   "cell_type": "code",
   "execution_count": 6,
   "metadata": {},
   "outputs": [
    {
     "name": "stdout",
     "output_type": "stream",
     "text": [
      "['example', 'list', 'of']\n",
      "['apple', 'orange', 5]\n"
     ]
    }
   ],
   "source": [
    "print(list1[:3])\n",
    "print(list2[:3])"
   ]
  },
  {
   "attachments": {},
   "cell_type": "markdown",
   "metadata": {},
   "source": [
    "Grabbing from nth to last"
   ]
  },
  {
   "cell_type": "code",
   "execution_count": 7,
   "metadata": {},
   "outputs": [
    {
     "name": "stdout",
     "output_type": "stream",
     "text": [
      "['of', 'strings']\n",
      "[5, True]\n"
     ]
    }
   ],
   "source": [
    "print(list1[2:])\n",
    "print(list2[2:])"
   ]
  },
  {
   "attachments": {},
   "cell_type": "markdown",
   "metadata": {},
   "source": [
    "We can also do all the concatenation and multiplication we did with Strings with Lists as well"
   ]
  },
  {
   "attachments": {},
   "cell_type": "markdown",
   "metadata": {},
   "source": [
    "We can combine lists by using addition"
   ]
  },
  {
   "cell_type": "code",
   "execution_count": 8,
   "metadata": {},
   "outputs": [
    {
     "data": {
      "text/plain": [
       "['example', 'list', 'of', 'strings', 'apple', 'orange', 5, True]"
      ]
     },
     "execution_count": 8,
     "metadata": {},
     "output_type": "execute_result"
    }
   ],
   "source": [
    "list1 + list2"
   ]
  },
  {
   "attachments": {},
   "cell_type": "markdown",
   "metadata": {},
   "source": [
    "We can multiply list items by using multiplication"
   ]
  },
  {
   "cell_type": "code",
   "execution_count": 9,
   "metadata": {},
   "outputs": [
    {
     "name": "stdout",
     "output_type": "stream",
     "text": [
      "exampleexampleexample\n",
      "['apple', 'orange', 5, True, 'apple', 'orange', 5, True, 'apple', 'orange', 5, True]\n"
     ]
    }
   ],
   "source": [
    "print(list1[0]*3)\n",
    "print(list2*3)"
   ]
  },
  {
   "attachments": {},
   "cell_type": "markdown",
   "metadata": {},
   "source": [
    "We can add new items to the list by using addition"
   ]
  },
  {
   "cell_type": "code",
   "execution_count": 10,
   "metadata": {},
   "outputs": [
    {
     "data": {
      "text/plain": [
       "['example', 'list', 'of', 'strings', 'additional item']"
      ]
     },
     "execution_count": 10,
     "metadata": {},
     "output_type": "execute_result"
    }
   ],
   "source": [
    "list1 = list1 + [\"additional item\"]\n",
    "list1"
   ]
  },
  {
   "attachments": {},
   "cell_type": "markdown",
   "metadata": {},
   "source": [
    "# 3) List Methods\n",
    "Similar to strings how we were able to apply methods to Strings, the List data types also has built in methods as well"
   ]
  },
  {
   "attachments": {},
   "cell_type": "markdown",
   "metadata": {},
   "source": [
    "Using concatenation"
   ]
  },
  {
   "attachments": {},
   "cell_type": "markdown",
   "metadata": {},
   "source": [
    "We can append items to the list so we don't have to store the new value in another variable"
   ]
  },
  {
   "cell_type": "code",
   "execution_count": 11,
   "metadata": {},
   "outputs": [
    {
     "data": {
      "text/plain": [
       "[0, 1, 2, 3, 4, 5]"
      ]
     },
     "execution_count": 11,
     "metadata": {},
     "output_type": "execute_result"
    }
   ],
   "source": [
    "starting_list = [0,1,2,3,4]\n",
    "starting_list = starting_list + [5] # notice how we have to store this back to starting_list\n",
    "starting_list"
   ]
  },
  {
   "attachments": {},
   "cell_type": "markdown",
   "metadata": {},
   "source": [
    "Using .append()"
   ]
  },
  {
   "cell_type": "code",
   "execution_count": 12,
   "metadata": {},
   "outputs": [
    {
     "data": {
      "text/plain": [
       "[0, 1, 2, 3, 4, 5]"
      ]
     },
     "execution_count": 12,
     "metadata": {},
     "output_type": "execute_result"
    }
   ],
   "source": [
    "starting_list = [0,1,2,3,4]\n",
    "starting_list.append(5) # notice that we don't need to store this / have an equal sign\n",
    "starting_list"
   ]
  },
  {
   "attachments": {},
   "cell_type": "markdown",
   "metadata": {},
   "source": [
    "We can also remove items from a list by using the .pop() method\n",
    "* .pop() method takes in the index of the item you want to remove\n",
    "* the .pop() method will return the item that it popped so you can store them"
   ]
  },
  {
   "cell_type": "code",
   "execution_count": 13,
   "metadata": {},
   "outputs": [
    {
     "name": "stdout",
     "output_type": "stream",
     "text": [
      "[0, 1, 3, 4]\n",
      "2\n"
     ]
    }
   ],
   "source": [
    "starting_list = [0,1,2,3,4]\n",
    "popped_item = starting_list.pop(2) # this is popping out the index = 2 \n",
    "\n",
    "print(starting_list)\n",
    "print(popped_item)"
   ]
  },
  {
   "attachments": {},
   "cell_type": "markdown",
   "metadata": {},
   "source": [
    "Similar to CHBE250 or other programming languages you are also able to find the index of the last item by doing len() - 1"
   ]
  },
  {
   "cell_type": "code",
   "execution_count": 14,
   "metadata": {},
   "outputs": [
    {
     "name": "stdout",
     "output_type": "stream",
     "text": [
      "Original List [0, 1, 3, 4]\n",
      "Index of last item in list: 3\n",
      "Value in last index: 4\n"
     ]
    }
   ],
   "source": [
    "print(\"Original List\", starting_list) # the original list\n",
    "print(\"Index of last item in list:\", len(starting_list) - 1) # returns the last value\n",
    "\n",
    "last_index = len(starting_list) - 1\n",
    "print(\"Value in last index:\", starting_list[last_index])"
   ]
  },
  {
   "attachments": {},
   "cell_type": "markdown",
   "metadata": {},
   "source": [
    "We can also find the max and min of a list"
   ]
  },
  {
   "cell_type": "code",
   "execution_count": 7,
   "metadata": {},
   "outputs": [
    {
     "name": "stdout",
     "output_type": "stream",
     "text": [
      "max of the list 10\n",
      "min of the list 2\n"
     ]
    }
   ],
   "source": [
    "my_list = [2,3,3,4,4,4,6,9,10]\n",
    "\n",
    "print(\"max of the list\", max(my_list))\n",
    "print(\"min of the list\", min(my_list))"
   ]
  },
  {
   "attachments": {},
   "cell_type": "markdown",
   "metadata": {},
   "source": [
    "We can also sort lists either in ascending and descending order using\n",
    "* max()\n",
    "* min()"
   ]
  },
  {
   "cell_type": "code",
   "execution_count": 3,
   "metadata": {},
   "outputs": [
    {
     "data": {
      "text/plain": [
       "[2, 3, 6, 9, 10]"
      ]
     },
     "execution_count": 3,
     "metadata": {},
     "output_type": "execute_result"
    }
   ],
   "source": [
    "sorted(my_list) # ascending"
   ]
  },
  {
   "cell_type": "code",
   "execution_count": 5,
   "metadata": {},
   "outputs": [
    {
     "data": {
      "text/plain": [
       "[10, 9, 6, 3, 2]"
      ]
     },
     "execution_count": 5,
     "metadata": {},
     "output_type": "execute_result"
    }
   ],
   "source": [
    "sorted(my_list, reverse=True) # descending"
   ]
  },
  {
   "attachments": {},
   "cell_type": "markdown",
   "metadata": {},
   "source": [
    "We can also count how many times a values shows up in a list with the count() method"
   ]
  },
  {
   "cell_type": "code",
   "execution_count": 10,
   "metadata": {},
   "outputs": [
    {
     "data": {
      "text/plain": [
       "1"
      ]
     },
     "execution_count": 10,
     "metadata": {},
     "output_type": "execute_result"
    }
   ],
   "source": [
    "my_list.count(2)"
   ]
  },
  {
   "cell_type": "code",
   "execution_count": 9,
   "metadata": {},
   "outputs": [
    {
     "data": {
      "text/plain": [
       "3"
      ]
     },
     "execution_count": 9,
     "metadata": {},
     "output_type": "execute_result"
    }
   ],
   "source": [
    "my_list.count(4)"
   ]
  },
  {
   "attachments": {},
   "cell_type": "markdown",
   "metadata": {},
   "source": [
    "# 4) Nested Lists (like arrays)\n",
    "Similar to Matlab or other programming languages, we can also have a list of lists, which we can treat like a 2D array.\n",
    "\n",
    "Imagine we have a 2D array like this\n",
    "<table>\n",
    "<tr>\n",
    "    <td>row/column</td>\n",
    "    <td>index=0</td>\n",
    "    <td>index=1</td>\n",
    "    <td>index=2</td>\n",
    "     \n",
    "</tr>\n",
    "<tr>\n",
    "    <td>index=0</td>\n",
    "    <td>0</td>\n",
    "    <td>1</td>\n",
    "    <td>2</td>\n",
    "     \n",
    "</tr>\n",
    "\n",
    "<tr>\n",
    "    <td>index=1</td>\n",
    "    <td>3</td> \n",
    "    <td>4</td> \n",
    "    <td>5</td>\n",
    "     \n",
    "</tr>\n",
    "<tr>\n",
    "    <td>index=2</td>\n",
    "    <td>6</td> \n",
    "    <td>7</td> \n",
    "    <td>8</td>\n",
    "</tr>\n",
    " </table>\n",
    "\n",
    " We can represent this table with a list that contains three lists\n",
    " <br>\n",
    "[ <br>\n",
    "[0,1,2], <br>\n",
    "[3,4,5], <br>\n",
    "[6,7,8] <br>\n",
    "]\n"
   ]
  },
  {
   "cell_type": "code",
   "execution_count": 15,
   "metadata": {},
   "outputs": [
    {
     "data": {
      "text/plain": [
       "[[0, 1, 2], [3, 4, 5], [6, 8, 9]]"
      ]
     },
     "execution_count": 15,
     "metadata": {},
     "output_type": "execute_result"
    }
   ],
   "source": [
    "nested_array = [[0,1,2],[3,4,5],[6,8,9]]\n",
    "nested_array"
   ]
  },
  {
   "attachments": {},
   "cell_type": "markdown",
   "metadata": {},
   "source": [
    "We can extract the numbers in the same way as we read the indexing of the table (row,column)\n",
    "* Recall that indexing starts at 0 in Python\n",
    "\n",
    "The first number represents the nth lists, and the second number represents which index in the list to access"
   ]
  },
  {
   "attachments": {},
   "cell_type": "markdown",
   "metadata": {},
   "source": [
    "Using one brackets extracts the rows"
   ]
  },
  {
   "cell_type": "code",
   "execution_count": null,
   "metadata": {},
   "outputs": [
    {
     "data": {
      "text/plain": [
       "[0, 1, 2]"
      ]
     },
     "execution_count": 16,
     "metadata": {},
     "output_type": "execute_result"
    }
   ],
   "source": [
    "nested_array[0]"
   ]
  },
  {
   "attachments": {},
   "cell_type": "markdown",
   "metadata": {},
   "source": [
    "Getting the 0th row, 0th column\n",
    "* Goes too the 0th list, goes to the 0th position in the list"
   ]
  },
  {
   "cell_type": "code",
   "execution_count": 17,
   "metadata": {},
   "outputs": [
    {
     "data": {
      "text/plain": [
       "0"
      ]
     },
     "execution_count": 17,
     "metadata": {},
     "output_type": "execute_result"
    }
   ],
   "source": [
    "nested_array[0][0]"
   ]
  },
  {
   "attachments": {},
   "cell_type": "markdown",
   "metadata": {},
   "source": [
    "Getting the 2th row, 2th column\n",
    "* Goes too the index = 2 list, goes to the index = 1 position in the list"
   ]
  },
  {
   "cell_type": "code",
   "execution_count": 18,
   "metadata": {},
   "outputs": [
    {
     "data": {
      "text/plain": [
       "8"
      ]
     },
     "execution_count": 18,
     "metadata": {},
     "output_type": "execute_result"
    }
   ],
   "source": [
    "nested_array[2][1]"
   ]
  },
  {
   "attachments": {},
   "cell_type": "markdown",
   "metadata": {},
   "source": [
    "# 5) List Comprehensions\n",
    "\n",
    "List Comprehensions is an important shorthand to help you manipulate a list quickly \n",
    "\n",
    "If we had a list of integers of n length, and we want to multiple every number, traditionally, we would use a for loop and do 2* each number. List Comprehensions allows you to skip writing the for loop at all and can do it in one line"
   ]
  },
  {
   "attachments": {},
   "cell_type": "markdown",
   "metadata": {},
   "source": [
    "Traditional For Loop"
   ]
  },
  {
   "cell_type": "code",
   "execution_count": 19,
   "metadata": {},
   "outputs": [
    {
     "data": {
      "text/plain": [
       "[0, 2, 4, 6, 8, 10, 12, 14, 16, 9]"
      ]
     },
     "execution_count": 19,
     "metadata": {},
     "output_type": "execute_result"
    }
   ],
   "source": [
    "numbers = [0,1,2,3,4,5,6,7,8,9]\n",
    "\n",
    "for i in range(0, len(numbers)-1): # loops through the index i from 0 to length - 1\n",
    "    numbers[i] = numbers[i] * 2\n",
    "\n",
    "numbers"
   ]
  },
  {
   "attachments": {},
   "cell_type": "markdown",
   "metadata": {},
   "source": [
    "List Comprehension"
   ]
  },
  {
   "cell_type": "code",
   "execution_count": 20,
   "metadata": {},
   "outputs": [
    {
     "data": {
      "text/plain": [
       "[0, 2, 4, 6, 8, 10, 12, 14, 16, 18]"
      ]
     },
     "execution_count": 20,
     "metadata": {},
     "output_type": "execute_result"
    }
   ],
   "source": [
    "numbers = [0,1,2,3,4,5,6,7,8,9]\n",
    "\n",
    "numbers = [2*n for n in numbers] # Structure: [\"new_value\" for \"old_value\" in \"list_name\"]\n",
    "\n",
    "numbers"
   ]
  },
  {
   "attachments": {},
   "cell_type": "markdown",
   "metadata": {},
   "source": [
    "# 6) Intro to Sets\n",
    "\n",
    "Sets are another type of data structures similar to lists, however, the difference is that a set has no duplicates\n",
    "* Sets are a good way to find how many distinct values you have in a list"
   ]
  },
  {
   "cell_type": "code",
   "execution_count": 21,
   "metadata": {},
   "outputs": [],
   "source": [
    "list_to_set = [1,1,2,3,4,4,4,5,5,6,7,8,9,9,9,9] # here we have a list that has repeats of some numbers"
   ]
  },
  {
   "attachments": {},
   "cell_type": "markdown",
   "metadata": {},
   "source": [
    "We can  turn a list into a set to get the distinct values"
   ]
  },
  {
   "cell_type": "code",
   "execution_count": 31,
   "metadata": {},
   "outputs": [
    {
     "data": {
      "text/plain": [
       "{1, 2, 3, 4, 5, 6, 7, 8, 9}"
      ]
     },
     "execution_count": 31,
     "metadata": {},
     "output_type": "execute_result"
    }
   ],
   "source": [
    "set_values = set(list_to_set)\n",
    "set_values"
   ]
  },
  {
   "attachments": {},
   "cell_type": "markdown",
   "metadata": {},
   "source": [
    "We can turn the set back into list so we have a list of distinct values\n",
    "* The reason to turn back into a list is that we can use index to return values"
   ]
  },
  {
   "attachments": {},
   "cell_type": "markdown",
   "metadata": {},
   "source": [
    "Trying to access an index value of the set will throw an error"
   ]
  },
  {
   "cell_type": "code",
   "execution_count": 33,
   "metadata": {},
   "outputs": [
    {
     "ename": "TypeError",
     "evalue": "'set' object is not subscriptable",
     "output_type": "error",
     "traceback": [
      "\u001b[1;31m---------------------------------------------------------------------------\u001b[0m",
      "\u001b[1;31mTypeError\u001b[0m                                 Traceback (most recent call last)",
      "\u001b[1;32mc:\\Users\\cryst\\Mirror\\Desktop\\School\\UMD 2022-2023\\CHBE469 Special Project\\CHBE469_Website\\CHBE469-Sample-Code\\Module-1\\Lec-3-Lists-CODE.ipynb Cell 42\u001b[0m in \u001b[0;36m<cell line: 1>\u001b[1;34m()\u001b[0m\n\u001b[1;32m----> <a href='vscode-notebook-cell:/c%3A/Users/cryst/Mirror/Desktop/School/UMD%202022-2023/CHBE469%20Special%20Project/CHBE469_Website/CHBE469-Sample-Code/Module-1/Lec-3-Lists-CODE.ipynb#Y106sZmlsZQ%3D%3D?line=0'>1</a>\u001b[0m set_values[\u001b[39m0\u001b[39;49m]\n",
      "\u001b[1;31mTypeError\u001b[0m: 'set' object is not subscriptable"
     ]
    }
   ],
   "source": [
    "set_values[0] # see how this throws an error"
   ]
  },
  {
   "attachments": {},
   "cell_type": "markdown",
   "metadata": {},
   "source": [
    "We have to turn the set back to a list if we want to be able to loop through it or access the individual values"
   ]
  },
  {
   "cell_type": "code",
   "execution_count": 35,
   "metadata": {},
   "outputs": [
    {
     "data": {
      "text/plain": [
       "[1, 2, 3, 4, 5, 6, 7, 8, 9]"
      ]
     },
     "execution_count": 35,
     "metadata": {},
     "output_type": "execute_result"
    }
   ],
   "source": [
    "distinct_list = list(set(list_to_set))\n",
    "distinct_list"
   ]
  }
 ],
 "metadata": {
  "kernelspec": {
   "display_name": "Python 3",
   "language": "python",
   "name": "python3"
  },
  "language_info": {
   "codemirror_mode": {
    "name": "ipython",
    "version": 3
   },
   "file_extension": ".py",
   "mimetype": "text/x-python",
   "name": "python",
   "nbconvert_exporter": "python",
   "pygments_lexer": "ipython3",
   "version": "3.9.13"
  },
  "orig_nbformat": 4
 },
 "nbformat": 4,
 "nbformat_minor": 2
}
