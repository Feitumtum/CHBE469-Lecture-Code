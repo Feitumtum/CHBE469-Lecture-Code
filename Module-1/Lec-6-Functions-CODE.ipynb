{
 "cells": [
  {
   "attachments": {},
   "cell_type": "markdown",
   "metadata": {},
   "source": [
    "# Functions in Python\n",
    "\n",
    "In this lecture we will focus on creating self defined functions and how to use them\n",
    "\n",
    "Checklist:\n",
    "\n",
    "    1) Syntax for Functions\n",
    "    2) Examples with examples shown in other lectures\n",
    "\n",
    "___"
   ]
  },
  {
   "attachments": {},
   "cell_type": "markdown",
   "metadata": {},
   "source": [
    "WHAT:\n",
    "* Functions are ways to put code into a little box so that we can keep it containerized make it easier to use\n",
    "\n",
    "WHY:\n",
    "* Abstract code so that we don't see the details and we can focus on the logic\n",
    "* Make it easier to reuse code in different places or in a for loop\n",
    "\n",
    "WHEN:\n",
    "* We should use functions when we plan on using a block of code more than once\n",
    "* Functions allow us to call the same block of code easily in a short and concise way\n",
    "\n",
    "\n",
    "Syntax\n",
    "\n",
    "    def func_name(arguments):\n",
    "        Do something with code\n",
    "        return some value\n",
    "\n",
    "Its important to try not to name functions the same as methods that already exist\n",
    "\n",
    "For example:\n",
    "* len()\n",
    "* max()\n",
    "* min()"
   ]
  },
  {
   "cell_type": "code",
   "execution_count": 5,
   "metadata": {},
   "outputs": [],
   "source": [
    "def say_hello(name):\n",
    "    print(f\"Hello {name*2}, how are you doing today\")"
   ]
  },
  {
   "cell_type": "code",
   "execution_count": 6,
   "metadata": {},
   "outputs": [
    {
     "name": "stdout",
     "output_type": "stream",
     "text": [
      "Hello Crystal, how are you doing today\n"
     ]
    }
   ],
   "source": [
    "say_hello(\"Crystal\")"
   ]
  },
  {
   "attachments": {},
   "cell_type": "markdown",
   "metadata": {},
   "source": [
    "In our previous example, we only printed a string based on the input.\n",
    "\n",
    "But most of the time, we want to return a value so that we can use it as part of our overall code"
   ]
  },
  {
   "cell_type": "code",
   "execution_count": 11,
   "metadata": {},
   "outputs": [
    {
     "data": {
      "text/plain": [
       "6"
      ]
     },
     "execution_count": 11,
     "metadata": {},
     "output_type": "execute_result"
    }
   ],
   "source": [
    "def sum(num1, num2):\n",
    "    return 2*num1 + num2\n",
    "\n",
    "output = sum(1,4)\n",
    "\n",
    "output"
   ]
  },
  {
   "attachments": {},
   "cell_type": "markdown",
   "metadata": {},
   "source": [
    "While we expect this to use this for numbers, but it works for strings too"
   ]
  },
  {
   "cell_type": "code",
   "execution_count": 13,
   "metadata": {},
   "outputs": [
    {
     "data": {
      "text/plain": [
       "'test-test-case'"
      ]
     },
     "execution_count": 13,
     "metadata": {},
     "output_type": "execute_result"
    }
   ],
   "source": [
    "sum(\"test-\",\"case\")"
   ]
  },
  {
   "attachments": {},
   "cell_type": "markdown",
   "metadata": {},
   "source": [
    "If we wanted to change up the order we can specify which input is which in the arguments\n",
    "* Alternatively, if we don't specify, then it will assume its the same order as in the function definition"
   ]
  },
  {
   "cell_type": "code",
   "execution_count": null,
   "metadata": {},
   "outputs": [],
   "source": [
    "output = sum(num2=1,num1=4)"
   ]
  },
  {
   "attachments": {},
   "cell_type": "markdown",
   "metadata": {},
   "source": [
    "### Example 1: Making a mathematical equation"
   ]
  },
  {
   "cell_type": "code",
   "execution_count": 28,
   "metadata": {},
   "outputs": [
    {
     "data": {
      "text/plain": [
       "15.66875"
      ]
     },
     "execution_count": 28,
     "metadata": {},
     "output_type": "execute_result"
    }
   ],
   "source": [
    "def Cp(a,b,c,d,T):\n",
    "    return a + b*T + c*T*2 + d*T**3\n",
    "\n",
    "Cp(21.5, -1.5*10**-3, 2.5*10**-5, -3.5*10**-7,250)"
   ]
  },
  {
   "attachments": {},
   "cell_type": "markdown",
   "metadata": {},
   "source": [
    "### Example 2: Function that returns whether a value exists in a list"
   ]
  },
  {
   "cell_type": "code",
   "execution_count": 19,
   "metadata": {},
   "outputs": [
    {
     "name": "stdout",
     "output_type": "stream",
     "text": [
      "'hello' exists in list: True\n",
      "  4     exists in list: True\n",
      "  10    exists in list: False\n"
     ]
    }
   ],
   "source": [
    "my_list = [1,4,6,3,8,\"hello\", \"what\"]\n",
    "\n",
    "def value_exists(value, input_list):\n",
    "    return value in input_list\n",
    "\n",
    "print(\"'hello' exists in list:\", value_exists(\"hello\", my_list))\n",
    "print(\"  4     exists in list:\", value_exists(4, my_list))\n",
    "print(\"  10    exists in list:\", value_exists(10, my_list))"
   ]
  },
  {
   "attachments": {},
   "cell_type": "markdown",
   "metadata": {},
   "source": [
    "### Example 3: Return a list with only even numbers (sorted)"
   ]
  },
  {
   "cell_type": "code",
   "execution_count": 25,
   "metadata": {},
   "outputs": [
    {
     "data": {
      "text/plain": [
       "[2, 4, 6, 6, 8, 12, 18]"
      ]
     },
     "execution_count": 25,
     "metadata": {},
     "output_type": "execute_result"
    }
   ],
   "source": [
    "def even_only(input_list):\n",
    "    output = []\n",
    "    \n",
    "    for item in input_list:\n",
    "        if item % 2 == 0:\n",
    "            output.append(item)\n",
    "    \n",
    "    return sorted(output)\n",
    "\n",
    "my_list = [1,4,6,3,8,11,5,6,9,12,18,21,2,8,3]\n",
    "\n",
    "even_only(my_list)"
   ]
  }
 ],
 "metadata": {
  "kernelspec": {
   "display_name": "Python 3",
   "language": "python",
   "name": "python3"
  },
  "language_info": {
   "codemirror_mode": {
    "name": "ipython",
    "version": 3
   },
   "file_extension": ".py",
   "mimetype": "text/x-python",
   "name": "python",
   "nbconvert_exporter": "python",
   "pygments_lexer": "ipython3",
   "version": "3.9.13"
  },
  "orig_nbformat": 4
 },
 "nbformat": 4,
 "nbformat_minor": 2
}
