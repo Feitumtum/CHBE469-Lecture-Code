{
 "cells": [
  {
   "attachments": {},
   "cell_type": "markdown",
   "metadata": {},
   "source": [
    "# Strings\n",
    "\n",
    "In this lecture we will focus on Strings in Python. This is most commonly used when working with file paths how to label the data you are working on\n",
    "\n",
    "## Checklist:\n",
    "\n",
    "    1) Strings in Python\n",
    "    2) Printing Strings and Variables\n",
    "    3) Slicing Strings / Getting substrings\n",
    "    4) Properties of Strings (immutability)\n",
    "    5) String Methods\n",
    "\n",
    "___"
   ]
  },
  {
   "attachments": {},
   "cell_type": "markdown",
   "metadata": {},
   "source": [
    "# 1) Strings in Python"
   ]
  },
  {
   "attachments": {},
   "cell_type": "markdown",
   "metadata": {},
   "source": [
    "In python you can use either single quotes 'hello' or double quotes \"hello\" to make strings\n",
    "\n",
    "However, it is best to use the more common method that double quotes are for strings, and single quotes are for single characters as this is how strings would work in other languages like Java"
   ]
  },
  {
   "cell_type": "code",
   "execution_count": 1,
   "metadata": {},
   "outputs": [
    {
     "data": {
      "text/plain": [
       "\"I'm Bob\""
      ]
     },
     "execution_count": 1,
     "metadata": {},
     "output_type": "execute_result"
    }
   ],
   "source": [
    "\"hello\" # double quotes for strings\n",
    "\n",
    "\"I'm Bob\" # Double quotes also avoid problems with ' in you strings"
   ]
  },
  {
   "attachments": {},
   "cell_type": "markdown",
   "metadata": {},
   "source": [
    "Single quotes for single characters"
   ]
  },
  {
   "cell_type": "code",
   "execution_count": 2,
   "metadata": {},
   "outputs": [
    {
     "data": {
      "text/plain": [
       "'a'"
      ]
     },
     "execution_count": 2,
     "metadata": {},
     "output_type": "execute_result"
    }
   ],
   "source": [
    "'a'"
   ]
  },
  {
   "attachments": {},
   "cell_type": "markdown",
   "metadata": {},
   "source": [
    "We can also combine strings together"
   ]
  },
  {
   "cell_type": "code",
   "execution_count": 3,
   "metadata": {},
   "outputs": [
    {
     "name": "stdout",
     "output_type": "stream",
     "text": [
      "String 1 andString 2\n",
      "String 1 and String 2\n"
     ]
    }
   ],
   "source": [
    "example1 = \"String 1 and\" + \"String 2\" # Note the extra space after the end of the first string\n",
    "example2 = \"String 1 and \" + \"String 2\"\n",
    "\n",
    "print(example1)\n",
    "print(example2)"
   ]
  },
  {
   "attachments": {},
   "cell_type": "markdown",
   "metadata": {},
   "source": [
    "# 2) Printing Strings and Variables\n",
    "\n",
    "Often time in your code you will want to print something to see where in the code we are or to return the out\n",
    "We can use print() statements to do so"
   ]
  },
  {
   "cell_type": "code",
   "execution_count": 4,
   "metadata": {},
   "outputs": [
    {
     "name": "stdout",
     "output_type": "stream",
     "text": [
      "Heat of Formation:\n"
     ]
    }
   ],
   "source": [
    "print(\"Heat of Formation:\")"
   ]
  },
  {
   "attachments": {},
   "cell_type": "markdown",
   "metadata": {},
   "source": [
    "We sometimes want to show our answer along with strings so we have units"
   ]
  },
  {
   "cell_type": "code",
   "execution_count": 5,
   "metadata": {},
   "outputs": [
    {
     "name": "stdout",
     "output_type": "stream",
     "text": [
      "Heat of Formation: 215 kJ/mol\n",
      "Heat of Formation: 215 kJ/mol\n"
     ]
    }
   ],
   "source": [
    "x = 215 # First we want to store a number in a variable\n",
    "\n",
    "print(\"Heat of Formation:\", x, \"kJ/mol\")\n",
    "\n",
    "# Alternative way is to store the whole string in a variable (String concatenation)\n",
    "output =\"Heat of Formation: \" + str(x) + \" kJ/mol\" # We have to cast the x which is Integer to a String data type\n",
    "print(output)"
   ]
  },
  {
   "attachments": {},
   "cell_type": "markdown",
   "metadata": {},
   "source": [
    "We can also use fstrings that allow us to put variables anywhere in a string"
   ]
  },
  {
   "cell_type": "code",
   "execution_count": 27,
   "metadata": {},
   "outputs": [
    {
     "name": "stdout",
     "output_type": "stream",
     "text": [
      "I have 10 apples and you have 20 oranges\n"
     ]
    }
   ],
   "source": [
    "var1 = 10\n",
    "var2 = 20\n",
    "\n",
    "print(f\"I have {var1} apples and you have {var2} oranges\")"
   ]
  },
  {
   "attachments": {},
   "cell_type": "markdown",
   "metadata": {},
   "source": [
    "# 3) Slicing Strings / Getting substrings\n",
    "\n",
    "Another method to use String include is to take substrings\n",
    "\n",
    "We can take substrings of a string by using [ ] brackets \n",
    "\n",
    "    IMPORTANT: Indexing starts at 0 for Python\n"
   ]
  },
  {
   "attachments": {},
   "cell_type": "markdown",
   "metadata": {},
   "source": [
    "Assign a random string to a variable"
   ]
  },
  {
   "cell_type": "code",
   "execution_count": null,
   "metadata": {},
   "outputs": [],
   "source": [
    "test_string_1 = \"0123456789\"\n",
    "test_string_2 = \"Folder1/Folder2/Folder3/FileName01\""
   ]
  },
  {
   "attachments": {},
   "cell_type": "markdown",
   "metadata": {},
   "source": [
    "Grabbing a substring between two indexes"
   ]
  },
  {
   "cell_type": "code",
   "execution_count": 7,
   "metadata": {},
   "outputs": [
    {
     "name": "stdout",
     "output_type": "stream",
     "text": [
      "Example 1: 23456\n",
      "Example 2: /Folder2\n"
     ]
    }
   ],
   "source": [
    "print(\"Example 1:\", test_string_1[2:7])\n",
    "print(\"Example 2:\", test_string_2[7:15]) # Here we are STARTING from index = 7 and going up to index 15 (but doesn't not include index 15)"
   ]
  },
  {
   "attachments": {},
   "cell_type": "markdown",
   "metadata": {},
   "source": [
    "Starting from index n to the end"
   ]
  },
  {
   "cell_type": "code",
   "execution_count": 8,
   "metadata": {},
   "outputs": [
    {
     "name": "stdout",
     "output_type": "stream",
     "text": [
      "Example 1: 789\n",
      "Example 2: /Folder2/Folder3/FileName01\n"
     ]
    }
   ],
   "source": [
    "print(\"Example 1:\", test_string_1[7:])\n",
    "print(\"Example 2:\", test_string_2[7:])"
   ]
  },
  {
   "attachments": {},
   "cell_type": "markdown",
   "metadata": {},
   "source": [
    "From beginning until index n"
   ]
  },
  {
   "cell_type": "code",
   "execution_count": 9,
   "metadata": {},
   "outputs": [
    {
     "name": "stdout",
     "output_type": "stream",
     "text": [
      "Example 1: 0123456\n",
      "Example 2: Folder1\n"
     ]
    }
   ],
   "source": [
    "print(\"Example 1:\", test_string_1[:7])\n",
    "print(\"Example 2:\", test_string_2[:7])"
   ]
  },
  {
   "attachments": {},
   "cell_type": "markdown",
   "metadata": {},
   "source": [
    "Grabbing the last char"
   ]
  },
  {
   "cell_type": "code",
   "execution_count": 10,
   "metadata": {},
   "outputs": [
    {
     "name": "stdout",
     "output_type": "stream",
     "text": [
      "Example 1: 9\n",
      "Example 2: 1\n"
     ]
    }
   ],
   "source": [
    "print(\"Example 1:\", test_string_1[-1])\n",
    "print(\"Example 2:\", test_string_2[-1])"
   ]
  },
  {
   "attachments": {},
   "cell_type": "markdown",
   "metadata": {},
   "source": [
    "Grabbing the last nth characters"
   ]
  },
  {
   "cell_type": "code",
   "execution_count": 11,
   "metadata": {},
   "outputs": [
    {
     "name": "stdout",
     "output_type": "stream",
     "text": [
      "Example 1: 56789\n",
      "Example 2: FileName01\n"
     ]
    }
   ],
   "source": [
    "print(\"Example 1:\", test_string_1[-5:])\n",
    "print(\"Example 2:\", test_string_2[-10:])"
   ]
  },
  {
   "attachments": {},
   "cell_type": "markdown",
   "metadata": {},
   "source": [
    "Grabbing all except the last nth numbers"
   ]
  },
  {
   "cell_type": "code",
   "execution_count": 12,
   "metadata": {},
   "outputs": [
    {
     "name": "stdout",
     "output_type": "stream",
     "text": [
      "Example 1: 0123456\n",
      "Example 2: Folder1/Folder2/Folder3/\n"
     ]
    }
   ],
   "source": [
    "print(\"Example 1:\", test_string_1[:-3])\n",
    "print(\"Example 2:\", test_string_2[:-10])"
   ]
  },
  {
   "attachments": {},
   "cell_type": "markdown",
   "metadata": {},
   "source": [
    "Grabbing from last nth to nth"
   ]
  },
  {
   "cell_type": "code",
   "execution_count": null,
   "metadata": {},
   "outputs": [
    {
     "name": "stdout",
     "output_type": "stream",
     "text": [
      "Example 1: 567\n",
      "Example 2: /Folder3/\n"
     ]
    }
   ],
   "source": [
    "print(\"Example 1:\", test_string_1[-5:-2])\n",
    "print(\"Example 2:\", test_string_2[-19:-10])"
   ]
  },
  {
   "attachments": {},
   "cell_type": "markdown",
   "metadata": {},
   "source": [
    "Grab everything based on step size"
   ]
  },
  {
   "cell_type": "code",
   "execution_count": 14,
   "metadata": {},
   "outputs": [
    {
     "name": "stdout",
     "output_type": "stream",
     "text": [
      "0123456789\n",
      "02468\n"
     ]
    }
   ],
   "source": [
    "print(test_string_1[::1])\n",
    "print(test_string_1[::2])"
   ]
  },
  {
   "attachments": {},
   "cell_type": "markdown",
   "metadata": {},
   "source": [
    "Grab the reverse of the string"
   ]
  },
  {
   "cell_type": "code",
   "execution_count": 15,
   "metadata": {},
   "outputs": [
    {
     "name": "stdout",
     "output_type": "stream",
     "text": [
      "9876543210\n"
     ]
    }
   ],
   "source": [
    "print(test_string_1[::-1])"
   ]
  },
  {
   "attachments": {},
   "cell_type": "markdown",
   "metadata": {},
   "source": [
    "# 4) String Properties\n",
    "Once very important concept to understand about Strings is that they are immutable. Meaning that we can't just take one letter out and replace it with a new letter. If we want to make changes to a String, we would have to make the changes and store it in a NEW string. \n",
    "\n",
    "* Immutable means you can't change or alter it"
   ]
  },
  {
   "attachments": {},
   "cell_type": "markdown",
   "metadata": {},
   "source": [
    "For example, we can't change one character in our previous string to a different character\n",
    "* this will thrown an error"
   ]
  },
  {
   "cell_type": "code",
   "execution_count": null,
   "metadata": {},
   "outputs": [
    {
     "ename": "TypeError",
     "evalue": "'str' object does not support item assignment",
     "output_type": "error",
     "traceback": [
      "\u001b[1;31m---------------------------------------------------------------------------\u001b[0m",
      "\u001b[1;31mTypeError\u001b[0m                                 Traceback (most recent call last)",
      "\u001b[1;32mc:\\Users\\cryst\\Mirror\\Desktop\\School\\UMD 2022-2023\\CHBE469 Special Project\\CHBE469_Website\\CHBE469-Sample-Code\\Module-1-Lec-1-Math-In-Python.ipynb Cell 24\u001b[0m in \u001b[0;36m<cell line: 2>\u001b[1;34m()\u001b[0m\n\u001b[0;32m      <a href='vscode-notebook-cell:/c%3A/Users/cryst/Mirror/Desktop/School/UMD%202022-2023/CHBE469%20Special%20Project/CHBE469_Website/CHBE469-Sample-Code/Module-1-Lec-1-Math-In-Python.ipynb#X53sZmlsZQ%3D%3D?line=0'>1</a>\u001b[0m \u001b[39m# For example, we can't change one character in our previous string to a different character\u001b[39;00m\n\u001b[1;32m----> <a href='vscode-notebook-cell:/c%3A/Users/cryst/Mirror/Desktop/School/UMD%202022-2023/CHBE469%20Special%20Project/CHBE469_Website/CHBE469-Sample-Code/Module-1-Lec-1-Math-In-Python.ipynb#X53sZmlsZQ%3D%3D?line=1'>2</a>\u001b[0m test_string_1[\u001b[39m-\u001b[39m\u001b[39m1\u001b[39m] \u001b[39m=\u001b[39m \u001b[39m\"\u001b[39m\u001b[39mB\u001b[39m\u001b[39m\"\u001b[39m\n",
      "\u001b[1;31mTypeError\u001b[0m: 'str' object does not support item assignment"
     ]
    }
   ],
   "source": [
    "test_string_1[-1] = \"B\""
   ]
  },
  {
   "attachments": {},
   "cell_type": "markdown",
   "metadata": {},
   "source": [
    "But we are still able to concatenate strings like we did with numbers and it make a new instance of the string"
   ]
  },
  {
   "cell_type": "code",
   "execution_count": 17,
   "metadata": {},
   "outputs": [
    {
     "data": {
      "text/plain": [
       "'0123456789Folder1/Folder2/Folder3/FileName01'"
      ]
     },
     "execution_count": 17,
     "metadata": {},
     "output_type": "execute_result"
    }
   ],
   "source": [
    "test_string_3 = test_string_1 + test_string_2\n",
    "test_string_3"
   ]
  },
  {
   "attachments": {},
   "cell_type": "markdown",
   "metadata": {},
   "source": [
    "We can do math on strings too!"
   ]
  },
  {
   "cell_type": "code",
   "execution_count": 18,
   "metadata": {},
   "outputs": [
    {
     "data": {
      "text/plain": [
       "'CrystalCrystalCrystalCrystalCrystal'"
      ]
     },
     "execution_count": 18,
     "metadata": {},
     "output_type": "execute_result"
    }
   ],
   "source": [
    "x = \"Crystal\"\n",
    "x*5"
   ]
  },
  {
   "attachments": {},
   "cell_type": "markdown",
   "metadata": {},
   "source": [
    "# 5) String Methods\n",
    "\n",
    "Methods are functions that are built into the data type. Meaning the data type already defined within creating that data type.\n",
    "* We can use these methods by typing .()\n",
    "\n",
    "The most common methods for| String would be to make all characters all upper or all lowercase.\n",
    "* Both of these methods do not alter the original string but OUTPUTS a new string"
   ]
  },
  {
   "attachments": {},
   "cell_type": "markdown",
   "metadata": {},
   "source": [
    "Upper Case a string"
   ]
  },
  {
   "cell_type": "code",
   "execution_count": null,
   "metadata": {},
   "outputs": [],
   "source": [
    "test_string_2.upper()"
   ]
  },
  {
   "attachments": {},
   "cell_type": "markdown",
   "metadata": {},
   "source": [
    "Upper Case a string"
   ]
  },
  {
   "cell_type": "code",
   "execution_count": null,
   "metadata": {},
   "outputs": [],
   "source": [
    "test_string_2.lower()"
   ]
  },
  {
   "attachments": {},
   "cell_type": "markdown",
   "metadata": {},
   "source": [
    "But to use the UPPER or LOWERCASE outputs, YOU HAVE TO STORE THE OUTPUT or it won't change"
   ]
  },
  {
   "cell_type": "code",
   "execution_count": null,
   "metadata": {},
   "outputs": [
    {
     "name": "stdout",
     "output_type": "stream",
     "text": [
      "Folder1/Folder2/Folder3/FileName01\n",
      "FOLDER1/FOLDER2/FOLDER3/FILENAME01\n"
     ]
    }
   ],
   "source": [
    "new_string = test_string_2.upper()\n",
    "\n",
    "print(test_string_2) # the old string stays the same until you store it\n",
    "print(new_string)"
   ]
  },
  {
   "attachments": {},
   "cell_type": "markdown",
   "metadata": {},
   "source": [
    "We can also split strings based on a char"
   ]
  },
  {
   "cell_type": "code",
   "execution_count": 29,
   "metadata": {},
   "outputs": [
    {
     "data": {
      "text/plain": [
       "['Folder1', 'Folder2', 'Folder3', 'FileName01']"
      ]
     },
     "execution_count": 29,
     "metadata": {},
     "output_type": "execute_result"
    }
   ],
   "source": [
    "test_string_2.split('/') # This will split the string whenever it reaches a '/' character."
   ]
  }
 ],
 "metadata": {
  "kernelspec": {
   "display_name": "Python 3",
   "language": "python",
   "name": "python3"
  },
  "language_info": {
   "codemirror_mode": {
    "name": "ipython",
    "version": 3
   },
   "file_extension": ".py",
   "mimetype": "text/x-python",
   "name": "python",
   "nbconvert_exporter": "python",
   "pygments_lexer": "ipython3",
   "version": "3.9.13"
  },
  "orig_nbformat": 4
 },
 "nbformat": 4,
 "nbformat_minor": 2
}
